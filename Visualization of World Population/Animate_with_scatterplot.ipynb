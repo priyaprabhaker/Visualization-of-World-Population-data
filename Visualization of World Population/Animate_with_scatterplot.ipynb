{
 "cells": [
  {
   "cell_type": "code",
   "execution_count": 313,
   "metadata": {},
   "outputs": [],
   "source": [
    "import pandas as pd\n",
    "import seaborn as sns\n",
    "import matplotlib.pyplot as plt"
   ]
  },
  {
   "cell_type": "code",
   "execution_count": 314,
   "metadata": {},
   "outputs": [],
   "source": [
    "fert = pd.read_csv('Week1_Marija\\Introduction to pandas\\gapminder_total_fertility.csv', index_col=0)\n",
    "life =pd.read_excel('Week1_Marija\\Introduction to pandas\\gapminder_lifeexpectancy.xlsx', index_col=0)\n",
    "population = pd.read_excel(\"Week1_Marija\\Introduction to pandas\\gapminder_population.xlsx\", index_col=0)\n",
    "continents = pd.read_csv('Week1_Marija\\Introduction to pandas\\continents.csv', index_col=0,sep = ';')"
   ]
  },
  {
   "cell_type": "code",
   "execution_count": 315,
   "metadata": {},
   "outputs": [
    {
     "data": {
      "text/html": [
       "<div>\n",
       "<style scoped>\n",
       "    .dataframe tbody tr th:only-of-type {\n",
       "        vertical-align: middle;\n",
       "    }\n",
       "\n",
       "    .dataframe tbody tr th {\n",
       "        vertical-align: top;\n",
       "    }\n",
       "\n",
       "    .dataframe thead th {\n",
       "        text-align: right;\n",
       "    }\n",
       "</style>\n",
       "<table border=\"1\" class=\"dataframe\">\n",
       "  <thead>\n",
       "    <tr style=\"text-align: right;\">\n",
       "      <th></th>\n",
       "      <th>country</th>\n",
       "    </tr>\n",
       "    <tr>\n",
       "      <th>continent</th>\n",
       "      <th></th>\n",
       "    </tr>\n",
       "  </thead>\n",
       "  <tbody>\n",
       "    <tr>\n",
       "      <th>Africa</th>\n",
       "      <td>Algeria</td>\n",
       "    </tr>\n",
       "    <tr>\n",
       "      <th>Africa</th>\n",
       "      <td>Angola</td>\n",
       "    </tr>\n",
       "    <tr>\n",
       "      <th>Africa</th>\n",
       "      <td>Benin</td>\n",
       "    </tr>\n",
       "    <tr>\n",
       "      <th>Africa</th>\n",
       "      <td>Botswana</td>\n",
       "    </tr>\n",
       "    <tr>\n",
       "      <th>Africa</th>\n",
       "      <td>Burkina</td>\n",
       "    </tr>\n",
       "    <tr>\n",
       "      <th>...</th>\n",
       "      <td>...</td>\n",
       "    </tr>\n",
       "    <tr>\n",
       "      <th>South America</th>\n",
       "      <td>Paraguay</td>\n",
       "    </tr>\n",
       "    <tr>\n",
       "      <th>South America</th>\n",
       "      <td>Peru</td>\n",
       "    </tr>\n",
       "    <tr>\n",
       "      <th>South America</th>\n",
       "      <td>Suriname</td>\n",
       "    </tr>\n",
       "    <tr>\n",
       "      <th>South America</th>\n",
       "      <td>Uruguay</td>\n",
       "    </tr>\n",
       "    <tr>\n",
       "      <th>South America</th>\n",
       "      <td>Venezuela</td>\n",
       "    </tr>\n",
       "  </tbody>\n",
       "</table>\n",
       "<p>194 rows × 1 columns</p>\n",
       "</div>"
      ],
      "text/plain": [
       "                 country\n",
       "continent               \n",
       "Africa           Algeria\n",
       "Africa            Angola\n",
       "Africa             Benin\n",
       "Africa          Botswana\n",
       "Africa           Burkina\n",
       "...                  ...\n",
       "South America   Paraguay\n",
       "South America       Peru\n",
       "South America   Suriname\n",
       "South America    Uruguay\n",
       "South America  Venezuela\n",
       "\n",
       "[194 rows x 1 columns]"
      ]
     },
     "execution_count": 315,
     "metadata": {},
     "output_type": "execute_result"
    }
   ],
   "source": [
    "continents"
   ]
  },
  {
   "cell_type": "code",
   "execution_count": 316,
   "metadata": {},
   "outputs": [],
   "source": [
    "life.columns=life.columns.astype(int)\n",
    "fert.columns=fert.columns.astype(int)\n",
    "population.columns = population.columns.astype(int)"
   ]
  },
  {
   "cell_type": "code",
   "execution_count": 317,
   "metadata": {},
   "outputs": [],
   "source": [
    "fert.index.name = 'country'\n",
    "life.index.name = 'country'\n",
    "population.index.name = 'country'"
   ]
  },
  {
   "cell_type": "code",
   "execution_count": 318,
   "metadata": {},
   "outputs": [],
   "source": [
    "life =  life.reset_index()\n",
    "fert =  fert.reset_index()\n",
    "population =  population.reset_index()\n",
    "continents = continents.reset_index()"
   ]
  },
  {
   "cell_type": "code",
   "execution_count": 319,
   "metadata": {},
   "outputs": [
    {
     "data": {
      "text/html": [
       "<div>\n",
       "<style scoped>\n",
       "    .dataframe tbody tr th:only-of-type {\n",
       "        vertical-align: middle;\n",
       "    }\n",
       "\n",
       "    .dataframe tbody tr th {\n",
       "        vertical-align: top;\n",
       "    }\n",
       "\n",
       "    .dataframe thead th {\n",
       "        text-align: right;\n",
       "    }\n",
       "</style>\n",
       "<table border=\"1\" class=\"dataframe\">\n",
       "  <thead>\n",
       "    <tr style=\"text-align: right;\">\n",
       "      <th></th>\n",
       "      <th>continent</th>\n",
       "      <th>country</th>\n",
       "    </tr>\n",
       "  </thead>\n",
       "  <tbody>\n",
       "    <tr>\n",
       "      <th>0</th>\n",
       "      <td>Africa</td>\n",
       "      <td>Algeria</td>\n",
       "    </tr>\n",
       "    <tr>\n",
       "      <th>1</th>\n",
       "      <td>Africa</td>\n",
       "      <td>Angola</td>\n",
       "    </tr>\n",
       "    <tr>\n",
       "      <th>2</th>\n",
       "      <td>Africa</td>\n",
       "      <td>Benin</td>\n",
       "    </tr>\n",
       "    <tr>\n",
       "      <th>3</th>\n",
       "      <td>Africa</td>\n",
       "      <td>Botswana</td>\n",
       "    </tr>\n",
       "    <tr>\n",
       "      <th>4</th>\n",
       "      <td>Africa</td>\n",
       "      <td>Burkina</td>\n",
       "    </tr>\n",
       "    <tr>\n",
       "      <th>...</th>\n",
       "      <td>...</td>\n",
       "      <td>...</td>\n",
       "    </tr>\n",
       "    <tr>\n",
       "      <th>189</th>\n",
       "      <td>South America</td>\n",
       "      <td>Paraguay</td>\n",
       "    </tr>\n",
       "    <tr>\n",
       "      <th>190</th>\n",
       "      <td>South America</td>\n",
       "      <td>Peru</td>\n",
       "    </tr>\n",
       "    <tr>\n",
       "      <th>191</th>\n",
       "      <td>South America</td>\n",
       "      <td>Suriname</td>\n",
       "    </tr>\n",
       "    <tr>\n",
       "      <th>192</th>\n",
       "      <td>South America</td>\n",
       "      <td>Uruguay</td>\n",
       "    </tr>\n",
       "    <tr>\n",
       "      <th>193</th>\n",
       "      <td>South America</td>\n",
       "      <td>Venezuela</td>\n",
       "    </tr>\n",
       "  </tbody>\n",
       "</table>\n",
       "<p>194 rows × 2 columns</p>\n",
       "</div>"
      ],
      "text/plain": [
       "         continent    country\n",
       "0           Africa    Algeria\n",
       "1           Africa     Angola\n",
       "2           Africa      Benin\n",
       "3           Africa   Botswana\n",
       "4           Africa    Burkina\n",
       "..             ...        ...\n",
       "189  South America   Paraguay\n",
       "190  South America       Peru\n",
       "191  South America   Suriname\n",
       "192  South America    Uruguay\n",
       "193  South America  Venezuela\n",
       "\n",
       "[194 rows x 2 columns]"
      ]
     },
     "execution_count": 319,
     "metadata": {},
     "output_type": "execute_result"
    }
   ],
   "source": [
    "continents"
   ]
  },
  {
   "cell_type": "code",
   "execution_count": 320,
   "metadata": {},
   "outputs": [],
   "source": [
    "life = life.melt(id_vars='country', var_name='year', value_name='life_expectancy')\n",
    "population = population.melt(id_vars='country', var_name='year', value_name='total_population')\n",
    "fert = fert.melt(id_vars='country', var_name='year', value_name='fertility_rate')"
   ]
  },
  {
   "cell_type": "code",
   "execution_count": 321,
   "metadata": {},
   "outputs": [],
   "source": [
    "df = fert.merge(population)"
   ]
  },
  {
   "cell_type": "code",
   "execution_count": 322,
   "metadata": {},
   "outputs": [],
   "source": [
    "df1 = df.merge(life)"
   ]
  },
  {
   "cell_type": "code",
   "execution_count": 323,
   "metadata": {},
   "outputs": [],
   "source": [
    "gapminder = pd.merge (continents,df1,how= 'right', on = 'country')"
   ]
  },
  {
   "cell_type": "code",
   "execution_count": 324,
   "metadata": {},
   "outputs": [],
   "source": [
    "gapminder.dropna(inplace=True)"
   ]
  },
  {
   "cell_type": "code",
   "execution_count": 349,
   "metadata": {},
   "outputs": [],
   "source": [
    "gapminder['year'] = gapminder['year'].astype(int)\n",
    "df2 =gapminder['year'].unique()\n",
    "#df3 = df2[61:]\n",
    "#df3"
   ]
  },
  {
   "cell_type": "code",
   "execution_count": 350,
   "metadata": {},
   "outputs": [],
   "source": [
    "minsize = gapminder['total_population'].min()/80000\n",
    "maxsize = gapminder['total_population'].max()/80000"
   ]
  },
  {
   "cell_type": "code",
   "execution_count": 351,
   "metadata": {},
   "outputs": [],
   "source": [
    "for i in df2:\n",
    "    #print(i)\\n\",\n",
    "\n",
    "    fig, axis= plt.subplots(figsize=(12,6))\n",
    "    sns.set_style(\"darkgrid\")\n",
    "    gapminder_subset = gapminder.loc[gapminder['year'] == i]\n",
    "    axis.set_xlim(0,100)\n",
    "    axis.set_ylim(0,10)\n",
    "    sns.scatterplot(x='life_expectancy', y='fertility_rate',data=gapminder_subset,alpha=0.5, size = 'total_population', sizes=(minsize,maxsize),hue='continent', palette = \"flare\",ax = axis )\n",
    "    #plt.legend (markerfirst = True,bbox_to_anchor = (0.75, 0.5, 0.5, 0.5), ncol=2, numpoints= 7)\n",
    "    plt.title(f'Year {i}')\n",
    "    plt.xlabel('Life Expectancy')\n",
    "    plt.ylabel('Fertility rate')\n",
    "    handles, labels = axis.get_legend_handles_labels()\n",
    "    axis.legend(handles=handles[:7], labels=labels[:7], loc=0)\n",
    "    plt.savefig('lifeexp_{}.png'.format(i))\n",
    "    #plt.savefig(f'lifeexp_{i}.png')\\n\",\n",
    "    plt.close()"
   ]
  },
  {
   "cell_type": "code",
   "execution_count": 352,
   "metadata": {},
   "outputs": [
    {
     "name": "stdout",
     "output_type": "stream",
     "text": [
      "Requirement already satisfied: imageio in c:\\users\\priya\\anaconda3\\lib\\site-packages (2.19.3)\n",
      "Requirement already satisfied: numpy in c:\\users\\priya\\anaconda3\\lib\\site-packages (from imageio) (1.21.5)\n",
      "Requirement already satisfied: pillow>=8.3.2 in c:\\users\\priya\\anaconda3\\lib\\site-packages (from imageio) (9.2.0)\n",
      "Note: you may need to restart the kernel to use updated packages.\n"
     ]
    }
   ],
   "source": [
    "pip install imageio"
   ]
  },
  {
   "cell_type": "code",
   "execution_count": 353,
   "metadata": {},
   "outputs": [
    {
     "name": "stderr",
     "output_type": "stream",
     "text": [
      "C:\\Users\\Priya\\AppData\\Local\\Temp\\ipykernel_10220\\1236622261.py:8: DeprecationWarning: Starting with ImageIO v3 the behavior of this function will switch to that of iio.v3.imread. To keep the current behavior (and make this warning dissapear) use `import imageio.v2 as imageio` or call `imageio.v2.imread` directly.\n",
      "  images.append(imageio.imread(filename))\n"
     ]
    }
   ],
   "source": [
    "import imageio\n",
    "\n",
    "images = []\n",
    "\n",
    "for i in df2:\n",
    "    filename = 'lifeexp_{}.png'.format(i)\n",
    "    #print(filename)\n",
    "    images.append(imageio.imread(filename))\n",
    "\n",
    "imageio.mimsave('output.gif', images, duration = 0.5,fps=5)"
   ]
  },
  {
   "cell_type": "code",
   "execution_count": null,
   "metadata": {},
   "outputs": [],
   "source": [
    "#gapminder[gapminder['continent'] == 'Australia and Oceania']['life_expectancy'].max(),gapminder[gapminder['continent'] == 'Africa']['life_expectancy'].min()"
   ]
  },
  {
   "cell_type": "code",
   "execution_count": null,
   "metadata": {},
   "outputs": [],
   "source": [
    "#conti =gapminder['continent'].unique()\n",
    "#conti\n"
   ]
  },
  {
   "cell_type": "code",
   "execution_count": null,
   "metadata": {},
   "outputs": [],
   "source": [
    "#conti_life=pd.DataFrame({'continent': ['Max_life','Min_life'], 'Africa':['','']})\n",
    "#conti_life.set_index('continent')\n",
    "#conti_life.index[0]\n"
   ]
  },
  {
   "cell_type": "code",
   "execution_count": null,
   "metadata": {},
   "outputs": [],
   "source": [
    "#for i in conti:\n",
    "    #conti_life['continents'] = i\n",
    "    #conti_life['maxlife'].append\n",
    "\n",
    "    #gapminder[gapminder['continent'] == i]['life_expectancy'].max()\n",
    "    #gapminder[gapminder['continent'] == i]['life_expectancy'].min()\n",
    "    \n"
   ]
  }
 ],
 "metadata": {
  "kernelspec": {
   "display_name": "base",
   "language": "python",
   "name": "python3"
  },
  "language_info": {
   "codemirror_mode": {
    "name": "ipython",
    "version": 3
   },
   "file_extension": ".py",
   "mimetype": "text/x-python",
   "name": "python",
   "nbconvert_exporter": "python",
   "pygments_lexer": "ipython3",
   "version": "3.9.13"
  },
  "orig_nbformat": 4,
  "vscode": {
   "interpreter": {
    "hash": "2539192e4dae8fbed55d1b7a276f6f97c4f2af57dafe050f3c9a49a580be9e6a"
   }
  }
 },
 "nbformat": 4,
 "nbformat_minor": 2
}
